{
 "cells": [
  {
   "cell_type": "code",
   "execution_count": 1,
   "id": "652b1db2",
   "metadata": {},
   "outputs": [],
   "source": [
    "# Import libraries\n",
    "\n",
    "from bs4 import BeautifulSoup\n",
    "import requests\n",
    "import smtplib\n",
    "import time\n",
    "import datetime\n",
    "import smtplib\n",
    "from email.mime.text import MIMEText"
   ]
  },
  {
   "cell_type": "code",
   "execution_count": 2,
   "id": "ea776a75",
   "metadata": {},
   "outputs": [],
   "source": [
    "# Connect to the website\n",
    "URL = 'https://www.amazon.com/Python-Programming-Beginners-Hands-Exercises/dp/B0BL2PHJJ9/ref=sr_1_1_sspa?crid=1GN6BX911F7KX&keywords=python+programming&qid=1682630160&sprefix=python+%2Caps%2C156&sr=8-1-spons&psc=1&spLa=ZW5jcnlwdGVkUXVhbGlmaWVyPUEyV0JDRTA3RE84UkdGJmVuY3J5cHRlZElkPUEwNTcwODEzM1NVOTZJQTRHWkc4RiZlbmNyeXB0ZWRBZElkPUEwNjY5MDQ1MkdZT1o2VEpLMVg4SiZ3aWRnZXROYW1lPXNwX2F0ZiZhY3Rpb249Y2xpY2tSZWRpcmVjdCZkb05vdExvZ0NsaWNrPXRydWU='\n",
    "headers = {\"User-Agent\": \"Mozilla/5.0 (Windows NT 10.0; Win64; x64) AppleWebKit/537.36 (KHTML, like Gecko) Chrome/112.0.0.0 Safari/537.36\", \"Accept-Encoding\":\"gzip, deflate\", \"Accept\":\"text/html,application/xhtml+xml,application/xml;q=0.9,*/*;q=0.8\", \"DNT\":\"1\",\"Connection\":\"close\", \"Upgrade-Insecure-Requests\":\"1\"}\n",
    "page = requests.get(URL, headers=headers)\n",
    "soup1 = BeautifulSoup(page.content, \"html.parser\")\n",
    "soup2 = BeautifulSoup(soup1.prettify(), \"html.parser\")\n",
    "\n",
    "# Get the title and the price from the website\n",
    "title = soup2.find(id='productTitle').get_text()\n",
    "price = soup2.find(id='price').get_text()\n",
    "\n",
    "# Removing the $ from price\n",
    "price = price.strip()[1:]\n",
    "\n",
    "# Converting price to an float so the mail equation at the bottom can work\n",
    "price = float(price)\n",
    "\n",
    "# Removing excess space from the title    \n",
    "title = title.strip()    \n",
    "today = datetime.date.today()"
   ]
  },
  {
   "cell_type": "code",
   "execution_count": 3,
   "id": "b34c20ff",
   "metadata": {},
   "outputs": [],
   "source": [
    "# Create the csv to document the price for each day \n",
    "# Make sure not to run this again otherwise it will replace the whole file each time\n",
    "import csv\n",
    "\n",
    "header = ['Title', 'Price', 'Date']\n",
    "data = [title, price, today]\n",
    "\n",
    "#w means write - \n",
    "#newline makes it so that when we insert the data it doesn't have a space between each csv\n",
    "with open('AmazonWebScrapingDataset2.csv', 'w', newline='', encoding='UTF8') as f:\n",
    "    writer = csv.writer(f)\n",
    "    #important for initial insertion of data\n",
    "    writer.writerow(header)\n",
    "    writer.writerow(data)"
   ]
  },
  {
   "cell_type": "code",
   "execution_count": 3,
   "id": "6a2c4e4b",
   "metadata": {},
   "outputs": [],
   "source": [
    "# Set up the email to be sent\n",
    "def send_email(subject, body, sender, recipients, password):\n",
    "    msg = MIMEText(body)\n",
    "    msg['Subject'] = subject\n",
    "    msg['From'] = sender\n",
    "    msg['To'] = ', '.join(recipients)\n",
    "    smtp_server = smtplib.SMTP_SSL('smtp.gmail.com', 465)\n",
    "    smtp_server.login(sender, password)\n",
    "    smtp_server.sendmail(sender, recipients, msg.as_string())\n",
    "    smtp_server.quit()\n",
    "\n",
    "subject = \"Your Book is on Sale\"\n",
    "body = \"Hello Andrew,\\n\\nThe book you were interested in is now under $21! Take your chance and buy it now at: https://www.amazon.com/Python-Programming-Beginners-Hands-Exercises/dp/B0BL2PHJJ9/ref=sr_1_1_sspa?crid=1GN6BX911F7KX&keywords=python+programming&qid=1682630160&sprefix=python+%2Caps%2C156&sr=8-1-spons&psc=1&spLa=ZW5jcnlwdGVkUXVhbGlmaWVyPUEyV0JDRTA3RE84UkdGJmVuY3J5cHRlZElkPUEwNTcwODEzM1NVOTZJQTRHWkc4RiZlbmNyeXB0ZWRBZElkPUEwNjY5MDQ1MkdZT1o2VEpLMVg4SiZ3aWRnZXROYW1lPXNwX2F0ZiZhY3Rpb249Y2xpY2tSZWRpcmVjdCZkb05vdExvZ0NsaWNrPXRydWU=\\n\\nWe hope it helps.\"\n",
    "sender = \"andrewwilding06@gmail.com\"\n",
    "recipients = [\"andrewwilding06@gmail.com\"]\n",
    "password = \"xxxxxxxxxxxxxxxx\""
   ]
  },
  {
   "cell_type": "code",
   "execution_count": 4,
   "id": "9270b677",
   "metadata": {},
   "outputs": [],
   "source": [
    "# check_price statement to add a new line to the csv with current data\n",
    "def check_price():\n",
    "    #Connect to the website\n",
    "    URL = 'https://www.amazon.com/Python-Programming-Beginners-Hands-Exercises/dp/B0BL2PHJJ9/ref=sr_1_1_sspa?crid=1GN6BX911F7KX&keywords=python+programming&qid=1682630160&sprefix=python+%2Caps%2C156&sr=8-1-spons&psc=1&spLa=ZW5jcnlwdGVkUXVhbGlmaWVyPUEyV0JDRTA3RE84UkdGJmVuY3J5cHRlZElkPUEwNTcwODEzM1NVOTZJQTRHWkc4RiZlbmNyeXB0ZWRBZElkPUEwNjY5MDQ1MkdZT1o2VEpLMVg4SiZ3aWRnZXROYW1lPXNwX2F0ZiZhY3Rpb249Y2xpY2tSZWRpcmVjdCZkb05vdExvZ0NsaWNrPXRydWU='\n",
    "    headers = {\"User-Agent\": \"Mozilla/5.0 (Windows NT 10.0; Win64; x64) AppleWebKit/537.36 (KHTML, like Gecko) Chrome/112.0.0.0 Safari/537.36\", \"Accept-Encoding\":\"gzip, deflate\", \"Accept\":\"text/html,application/xhtml+xml,application/xml;q=0.9,*/*;q=0.8\", \"DNT\":\"1\",\"Connection\":\"close\", \"Upgrade-Insecure-Requests\":\"1\"}\n",
    "    page = requests.get(URL, headers=headers)\n",
    "    soup1 = BeautifulSoup(page.content, \"html.parser\")\n",
    "    soup2 = BeautifulSoup(soup1.prettify(), \"html.parser\")\n",
    "    title = soup2.find(id='productTitle').get_text()\n",
    "    price = soup2.find(id='price').get_text()\n",
    "    #Removing the $ from price \n",
    "    price = price.strip()[1:]\n",
    "    # Converting price to an float so the if equation at the bottom can work\n",
    "    price = float(price) \n",
    "    title = title.strip()\n",
    "    today = datetime.date.today()\n",
    "    \n",
    "    #Add to previously created csv with current data from the site\n",
    "    import csv\n",
    "\n",
    "    header = ['Title', 'Price', 'Date']\n",
    "    data = [title, price, today]\n",
    "\n",
    "    with open('AmazonWebScrapingDataset.csv', 'a+', newline='', encoding='UTF8') as f:\n",
    "        writer = csv.writer(f)\n",
    "        writer.writerow(data)\n",
    "    \n",
    "    #If the price goes below $21, send the email\n",
    "    if(price < 21):\n",
    "        send_email(subject, body, sender, recipients, password)"
   ]
  },
  {
   "cell_type": "code",
   "execution_count": null,
   "id": "507db8a6",
   "metadata": {},
   "outputs": [],
   "source": [
    "#Check the price on a daily basis\n",
    "while(True):\n",
    "    check_price()\n",
    "    time.sleep(86400)"
   ]
  }
 ],
 "metadata": {
  "kernelspec": {
   "display_name": "Python 3 (ipykernel)",
   "language": "python",
   "name": "python3"
  },
  "language_info": {
   "codemirror_mode": {
    "name": "ipython",
    "version": 3
   },
   "file_extension": ".py",
   "mimetype": "text/x-python",
   "name": "python",
   "nbconvert_exporter": "python",
   "pygments_lexer": "ipython3",
   "version": "3.10.9"
  }
 },
 "nbformat": 4,
 "nbformat_minor": 5
}
